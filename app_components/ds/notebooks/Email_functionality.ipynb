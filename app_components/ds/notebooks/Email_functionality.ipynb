{
 "cells": [
  {
   "cell_type": "code",
   "execution_count": 4,
   "id": "ff230eb8-8caf-49e0-a226-d9a5915e7127",
   "metadata": {},
   "outputs": [
    {
     "name": "stdout",
     "output_type": "stream",
     "text": [
      "Email sent successfully.\n"
     ]
    }
   ],
   "source": [
    "import smtplib\n",
    "from email.mime.text import MIMEText\n",
    "from email.mime.multipart import MIMEMultipart\n",
    "\n",
    "# === Configuration ===\n",
    "smtp_server = 'smtp.gmail.com'\n",
    "smtp_port = 587  # TLS\n",
    "sender_email = 'hayk_nalchajyan@edu.aua.am'\n",
    "app_password = 'uclr rwxq annw rksa'  # Use an App Password if using Gmail with 2FA\n",
    "receiver_email = 'hayk.nalchajyan@gmail.com'\n",
    "\n",
    "# === Create Email ===\n",
    "subject = 'Test Email from Python'\n",
    "body = 'Hello, this is a test email sent using Python!'\n",
    "\n",
    "message = MIMEMultipart()\n",
    "message['From'] = sender_email\n",
    "message['To'] = receiver_email\n",
    "message['Subject'] = subject\n",
    "message.attach(MIMEText(body, 'plain'))\n",
    "\n",
    "# === Send Email ===\n",
    "try:\n",
    "    server = smtplib.SMTP(smtp_server, smtp_port)\n",
    "    server.starttls()  # Secure the connection\n",
    "    server.login(sender_email, app_password)\n",
    "    server.send_message(message)\n",
    "    print(\"Email sent successfully.\")\n",
    "except Exception as e:\n",
    "    print(f\"Failed to send email: {e}\")\n",
    "finally:\n",
    "    server.quit()\n"
   ]
  },
  {
   "cell_type": "code",
   "execution_count": null,
   "id": "97089d49-72de-494d-ad85-5c1916ed7b8c",
   "metadata": {},
   "outputs": [],
   "source": []
  }
 ],
 "metadata": {
  "kernelspec": {
   "display_name": "Python [conda env:base] *",
   "language": "python",
   "name": "conda-base-py"
  },
  "language_info": {
   "codemirror_mode": {
    "name": "ipython",
    "version": 3
   },
   "file_extension": ".py",
   "mimetype": "text/x-python",
   "name": "python",
   "nbconvert_exporter": "python",
   "pygments_lexer": "ipython3",
   "version": "3.12.7"
  }
 },
 "nbformat": 4,
 "nbformat_minor": 5
}
